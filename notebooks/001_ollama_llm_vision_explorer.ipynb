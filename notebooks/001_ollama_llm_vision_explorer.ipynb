{
 "cells": [
  {
   "cell_type": "code",
   "execution_count": null,
   "id": "eece4fc3-9da4-488d-b3d2-eea7658113a0",
   "metadata": {},
   "outputs": [],
   "source": [
    "from PIL import Image\n",
    "import ollama"
   ]
  },
  {
   "cell_type": "code",
   "execution_count": null,
   "id": "40764007-a76c-4474-a1f8-a80a2d5162bf",
   "metadata": {},
   "outputs": [],
   "source": [
    "from config import base_settings"
   ]
  },
  {
   "cell_type": "code",
   "execution_count": null,
   "id": "055af248-447a-4d44-bed4-9e61de7dd23f",
   "metadata": {},
   "outputs": [],
   "source": [
    "rules_folder = base_settings.ASSET_DIR / \"img\" / \"seven_wonders\""
   ]
  },
  {
   "cell_type": "code",
   "execution_count": null,
   "id": "7e55f855-ef50-4dab-9d1c-a6c9ea449941",
   "metadata": {},
   "outputs": [],
   "source": [
    "game_name = \"seven wonders\""
   ]
  },
  {
   "cell_type": "code",
   "execution_count": null,
   "id": "d5824343-6f49-4ac8-8cae-5e8d2288e48f",
   "metadata": {},
   "outputs": [],
   "source": [
    "instruction = f\"\"\"\n",
    "Voici les règles du jeux {game_name} en français, récris les en format structuré. \n",
    "N'oublie pas de partie. \n",
    "N'hésite pas à te répéter pour que chaque partie de tes règles puissent être compréhensible.\n",
    "Reformules toutes ces informations pour que chacune soit autosuffisante.\n",
    "Structure toutes ces informations pour quelles soit présentée sous forme de JSON. \n",
    "Chaque élément du JSON doivent contenir sont contenu (dans le champ : \"content\"), sont breadcrumb pour y accéder (dans le champ : \"content\") et le nom du jeu : {game_name} (dans le champ : \"game_name\")\n",
    "Réaliser un JSON \"à plat\"\n",
    "\"\"\""
   ]
  },
  {
   "cell_type": "code",
   "execution_count": null,
   "id": "13592a9f-05e6-4db6-a3b3-55e005bbf376",
   "metadata": {},
   "outputs": [],
   "source": [
    "from ollama import Client\n",
    "client = Client(host='http://localhost:11434')"
   ]
  },
  {
   "cell_type": "code",
   "execution_count": null,
   "id": "37003bf8-3145-463a-9620-8e0c802b8305",
   "metadata": {},
   "outputs": [],
   "source": [
    "result = client.generate(\n",
    "    model='llava-phi3',\n",
    "    prompt=instruction,\n",
    "    images=list(rules_folder.glob(\"*\"))[:3],\n",
    "    stream=False\n",
    ")['response']"
   ]
  },
  {
   "cell_type": "code",
   "execution_count": null,
   "id": "73296cad-c0ba-4439-8763-8d4cfc8b0d0f",
   "metadata": {},
   "outputs": [],
   "source": [
    "result"
   ]
  },
  {
   "cell_type": "code",
   "execution_count": null,
   "id": "a749c557-b121-4265-95a3-812125706a81",
   "metadata": {},
   "outputs": [],
   "source": []
  }
 ],
 "metadata": {
  "kernelspec": {
   "display_name": "Python 3 (ipykernel)",
   "language": "python",
   "name": "python3"
  },
  "language_info": {
   "codemirror_mode": {
    "name": "ipython",
    "version": 3
   },
   "file_extension": ".py",
   "mimetype": "text/x-python",
   "name": "python",
   "nbconvert_exporter": "python",
   "pygments_lexer": "ipython3",
   "version": "3.11.9"
  }
 },
 "nbformat": 4,
 "nbformat_minor": 5
}
